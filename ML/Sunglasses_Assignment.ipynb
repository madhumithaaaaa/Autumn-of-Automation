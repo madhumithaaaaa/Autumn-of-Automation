{
  "nbformat": 4,
  "nbformat_minor": 0,
  "metadata": {
    "colab": {
      "name": "ML Assignment.ipynb",
      "provenance": [],
      "authorship_tag": "ABX9TyPjZOR+kEaZUsCS1fQfpHkq"
    },
    "kernelspec": {
      "name": "python3",
      "display_name": "Python 3"
    }
  },
  "cells": [
    {
      "cell_type": "code",
      "metadata": {
        "id": "IEFGB5tBNZDS",
        "colab_type": "code",
        "colab": {
          "base_uri": "https://localhost:8080/",
          "height": 34
        },
        "outputId": "27938d21-7cff-412a-cddd-ad94ca7ea504"
      },
      "source": [
        "import numpy as np\n",
        "import cv2\n",
        "import tensorflow as tf\n",
        "import keras"
      ],
      "execution_count": 2,
      "outputs": [
        {
          "output_type": "stream",
          "text": [
            "Using TensorFlow backend.\n"
          ],
          "name": "stderr"
        }
      ]
    },
    {
      "cell_type": "code",
      "metadata": {
        "id": "J6zNjEB3Nh9X",
        "colab_type": "code",
        "colab": {}
      },
      "source": [
        ""
      ],
      "execution_count": null,
      "outputs": []
    },
    {
      "cell_type": "code",
      "metadata": {
        "id": "e9sH0LwHNnKQ",
        "colab_type": "code",
        "colab": {
          "base_uri": "https://localhost:8080/",
          "height": 34
        },
        "outputId": "89fc3b97-23db-4f24-ade3-4eec53c5fad9"
      },
      "source": [
        "from google.colab import drive\n",
        "drive.mount('/content/drive')"
      ],
      "execution_count": 16,
      "outputs": [
        {
          "output_type": "stream",
          "text": [
            "Drive already mounted at /content/drive; to attempt to forcibly remount, call drive.mount(\"/content/drive\", force_remount=True).\n"
          ],
          "name": "stdout"
        }
      ]
    },
    {
      "cell_type": "code",
      "metadata": {
        "id": "WbaxQ3eUNqbv",
        "colab_type": "code",
        "colab": {}
      },
      "source": [
        "X = np.load('/content/drive/My Drive/SunglassesDataset.npy', allow_pickle=True)"
      ],
      "execution_count": 6,
      "outputs": []
    },
    {
      "cell_type": "code",
      "metadata": {
        "id": "Opu4ug1hkRY_",
        "colab_type": "code",
        "colab": {}
      },
      "source": [
        "X = []\n",
        "for i in range(313):\n",
        "  img = cv2.imread(\"/content/drive/My Drive/Intermediate_Assignment_Dataset/NoSunglasses\"+ f\"{i}\" + \".pgm\")\n",
        "  img_array = keras.preprocessing.image.img_to_array(img)\n",
        "  X.append(img_array)\n",
        "\n",
        "for i in range(311):\n",
        "  img = cv2.imread(\"/content/drive/My Drive/Intermediate_Assignment_Dataset/YesSunglasses\"+ f\"{i}\" + \".pgm\")\n",
        "  img_array = keras.preprocessing.image.img_to_array(img)\n",
        "  X.append(img_array)\n",
        "\n"
      ],
      "execution_count": 4,
      "outputs": []
    },
    {
      "cell_type": "code",
      "metadata": {
        "id": "_ZtkuObqjgNY",
        "colab_type": "code",
        "colab": {}
      },
      "source": [
        "np.save('/content/drive/My Drive/SunglassesDataset.npy', X)"
      ],
      "execution_count": 5,
      "outputs": []
    },
    {
      "cell_type": "code",
      "metadata": {
        "id": "rtC4fFG_mYiS",
        "colab_type": "code",
        "colab": {}
      },
      "source": [
        "y = []\n",
        "for i in range(313):\n",
        "  y.append(0)\n",
        "for i in range(311):\n",
        "  y.append(1)"
      ],
      "execution_count": 8,
      "outputs": []
    },
    {
      "cell_type": "code",
      "metadata": {
        "id": "NrGhPZE4m5ah",
        "colab_type": "code",
        "colab": {}
      },
      "source": [
        "X = np.array(X)\n",
        "y = np.array(y)"
      ],
      "execution_count": 11,
      "outputs": []
    },
    {
      "cell_type": "code",
      "metadata": {
        "id": "n2QZ1tLmm9Lb",
        "colab_type": "code",
        "colab": {}
      },
      "source": [
        "from sklearn.model_selection import train_test_split\n",
        "\n",
        "X_train, X_test, y_train, y_test = train_test_split(X, y, test_size=0.2, random_state=0)"
      ],
      "execution_count": 12,
      "outputs": []
    },
    {
      "cell_type": "code",
      "metadata": {
        "id": "kOMbToH2nQgN",
        "colab_type": "code",
        "colab": {}
      },
      "source": [
        "from keras.models import Sequential\n",
        "from keras.layers import Conv2D\n",
        "from keras.layers import MaxPooling2D\n",
        "from keras.layers import Flatten\n",
        "from keras.layers import Dense\n",
        "from keras.layers import Dropout"
      ],
      "execution_count": 13,
      "outputs": []
    },
    {
      "cell_type": "code",
      "metadata": {
        "id": "NIhMXL3Pdhed",
        "colab_type": "code",
        "colab": {}
      },
      "source": [
        "model = Sequential()\n",
        "\n",
        "model.add(Conv2D(256, (3,3), activation='relu'))\n",
        "model.add(MaxPooling2D(pool_size=(2,2)))\n",
        "model.add(Flatten())\n",
        "\n",
        "model.add(Dense(256, activation='relu'))\n",
        "model.add(Dropout(0.5))\n",
        "\n",
        "model.add(Dense(256, activation='relu'))\n",
        "model.add(Dropout(0.5))\n",
        "\n",
        "model.add(Dense(units=1, activation='sigmoid'))\n",
        "\n",
        "model.compile(optimizer='adam', loss='binary_crossentropy', metrics=['accuracy'])"
      ],
      "execution_count": 14,
      "outputs": []
    },
    {
      "cell_type": "code",
      "metadata": {
        "id": "rnY7UTZ4gVpl",
        "colab_type": "code",
        "colab": {}
      },
      "source": [
        "from tensorflow.keras.callbacks import EarlyStopping\n",
        "\n",
        "early_stopping = EarlyStopping(monitor='val_loss', mode='min', verbose=1, patience=25)"
      ],
      "execution_count": 15,
      "outputs": []
    },
    {
      "cell_type": "code",
      "metadata": {
        "id": "72ZR-vv2h5jA",
        "colab_type": "code",
        "colab": {
          "base_uri": "https://localhost:8080/",
          "height": 1000
        },
        "outputId": "5b93aa42-8352-49fe-dac9-7cec23183e8a"
      },
      "source": [
        "model.fit(x=X_train, y=y_train, epochs=100, validation_split=0.2, callbacks=[early_stopping])"
      ],
      "execution_count": 16,
      "outputs": [
        {
          "output_type": "stream",
          "text": [
            "Train on 399 samples, validate on 100 samples\n",
            "Epoch 1/100\n",
            "399/399 [==============================] - 62s 155ms/step - loss: 873.2214 - accuracy: 0.4536 - val_loss: 51.6307 - val_accuracy: 0.5800\n",
            "Epoch 2/100\n",
            "399/399 [==============================] - 57s 143ms/step - loss: 41.9877 - accuracy: 0.5313 - val_loss: 4.4312 - val_accuracy: 0.5400\n",
            "Epoch 3/100\n",
            "399/399 [==============================] - 61s 154ms/step - loss: 4.4134 - accuracy: 0.5739 - val_loss: 1.8619 - val_accuracy: 0.7000\n",
            "Epoch 4/100\n",
            "399/399 [==============================] - 57s 142ms/step - loss: 2.3533 - accuracy: 0.6291 - val_loss: 0.4702 - val_accuracy: 0.8000\n",
            "Epoch 5/100\n",
            "399/399 [==============================] - 57s 142ms/step - loss: 1.2586 - accuracy: 0.7444 - val_loss: 0.2909 - val_accuracy: 0.8600\n",
            "Epoch 6/100\n",
            "399/399 [==============================] - 57s 142ms/step - loss: 0.7876 - accuracy: 0.7970 - val_loss: 0.2517 - val_accuracy: 0.9300\n",
            "Epoch 7/100\n",
            "399/399 [==============================] - 56s 141ms/step - loss: 0.7595 - accuracy: 0.8095 - val_loss: 0.2431 - val_accuracy: 0.9000\n",
            "Epoch 8/100\n",
            "399/399 [==============================] - 56s 141ms/step - loss: 0.4272 - accuracy: 0.8496 - val_loss: 0.2016 - val_accuracy: 0.9200\n",
            "Epoch 9/100\n",
            "399/399 [==============================] - 57s 142ms/step - loss: 0.5226 - accuracy: 0.8647 - val_loss: 0.1602 - val_accuracy: 0.9400\n",
            "Epoch 10/100\n",
            "399/399 [==============================] - 57s 142ms/step - loss: 0.3445 - accuracy: 0.8897 - val_loss: 0.1351 - val_accuracy: 0.9400\n",
            "Epoch 11/100\n",
            "399/399 [==============================] - 57s 142ms/step - loss: 0.2317 - accuracy: 0.9173 - val_loss: 0.1665 - val_accuracy: 0.9200\n",
            "Epoch 12/100\n",
            "399/399 [==============================] - 57s 143ms/step - loss: 0.3306 - accuracy: 0.8997 - val_loss: 0.1502 - val_accuracy: 0.9400\n",
            "Epoch 13/100\n",
            "399/399 [==============================] - 57s 142ms/step - loss: 0.2766 - accuracy: 0.8997 - val_loss: 0.1951 - val_accuracy: 0.9300\n",
            "Epoch 14/100\n",
            "399/399 [==============================] - 57s 143ms/step - loss: 0.1952 - accuracy: 0.9398 - val_loss: 0.2175 - val_accuracy: 0.9300\n",
            "Epoch 15/100\n",
            "399/399 [==============================] - 56s 141ms/step - loss: 0.1915 - accuracy: 0.9298 - val_loss: 0.1790 - val_accuracy: 0.9400\n",
            "Epoch 16/100\n",
            "399/399 [==============================] - 57s 142ms/step - loss: 0.1813 - accuracy: 0.9424 - val_loss: 0.1615 - val_accuracy: 0.9500\n",
            "Epoch 17/100\n",
            "399/399 [==============================] - 57s 142ms/step - loss: 0.1709 - accuracy: 0.9348 - val_loss: 0.1558 - val_accuracy: 0.9300\n",
            "Epoch 18/100\n",
            "399/399 [==============================] - 57s 144ms/step - loss: 0.1516 - accuracy: 0.9499 - val_loss: 0.1207 - val_accuracy: 0.9600\n",
            "Epoch 19/100\n",
            "399/399 [==============================] - 60s 150ms/step - loss: 0.1668 - accuracy: 0.9424 - val_loss: 0.1428 - val_accuracy: 0.9500\n",
            "Epoch 20/100\n",
            "399/399 [==============================] - 57s 142ms/step - loss: 0.1720 - accuracy: 0.9348 - val_loss: 0.1570 - val_accuracy: 0.9100\n",
            "Epoch 21/100\n",
            "399/399 [==============================] - 57s 142ms/step - loss: 0.0829 - accuracy: 0.9674 - val_loss: 0.1560 - val_accuracy: 0.9300\n",
            "Epoch 22/100\n",
            "399/399 [==============================] - 56s 141ms/step - loss: 0.1107 - accuracy: 0.9599 - val_loss: 0.1636 - val_accuracy: 0.9200\n",
            "Epoch 23/100\n",
            "399/399 [==============================] - 57s 142ms/step - loss: 0.1287 - accuracy: 0.9524 - val_loss: 0.1688 - val_accuracy: 0.9300\n",
            "Epoch 24/100\n",
            "399/399 [==============================] - 57s 143ms/step - loss: 0.1008 - accuracy: 0.9549 - val_loss: 0.1697 - val_accuracy: 0.9400\n",
            "Epoch 25/100\n",
            "399/399 [==============================] - 57s 142ms/step - loss: 0.1046 - accuracy: 0.9574 - val_loss: 0.1528 - val_accuracy: 0.9400\n",
            "Epoch 26/100\n",
            "399/399 [==============================] - 57s 142ms/step - loss: 0.0787 - accuracy: 0.9699 - val_loss: 0.2362 - val_accuracy: 0.9100\n",
            "Epoch 27/100\n",
            "399/399 [==============================] - 57s 142ms/step - loss: 0.1290 - accuracy: 0.9574 - val_loss: 0.2791 - val_accuracy: 0.9300\n",
            "Epoch 28/100\n",
            "399/399 [==============================] - 56s 141ms/step - loss: 0.0861 - accuracy: 0.9574 - val_loss: 0.2582 - val_accuracy: 0.9400\n",
            "Epoch 29/100\n",
            "399/399 [==============================] - 57s 143ms/step - loss: 0.0739 - accuracy: 0.9825 - val_loss: 0.1945 - val_accuracy: 0.9400\n",
            "Epoch 30/100\n",
            "399/399 [==============================] - 57s 142ms/step - loss: 0.0811 - accuracy: 0.9624 - val_loss: 0.1528 - val_accuracy: 0.9400\n",
            "Epoch 31/100\n",
            "399/399 [==============================] - 57s 142ms/step - loss: 0.1302 - accuracy: 0.9549 - val_loss: 0.1535 - val_accuracy: 0.9500\n",
            "Epoch 32/100\n",
            "399/399 [==============================] - 57s 142ms/step - loss: 0.0681 - accuracy: 0.9774 - val_loss: 0.1500 - val_accuracy: 0.9500\n",
            "Epoch 33/100\n",
            "399/399 [==============================] - 57s 142ms/step - loss: 0.0540 - accuracy: 0.9749 - val_loss: 0.1288 - val_accuracy: 0.9500\n",
            "Epoch 34/100\n",
            "399/399 [==============================] - 57s 143ms/step - loss: 0.0750 - accuracy: 0.9699 - val_loss: 0.1244 - val_accuracy: 0.9500\n",
            "Epoch 35/100\n",
            "399/399 [==============================] - 59s 148ms/step - loss: 0.0602 - accuracy: 0.9774 - val_loss: 0.1419 - val_accuracy: 0.9500\n",
            "Epoch 36/100\n",
            "399/399 [==============================] - 57s 142ms/step - loss: 0.0665 - accuracy: 0.9599 - val_loss: 0.1093 - val_accuracy: 0.9500\n",
            "Epoch 37/100\n",
            "399/399 [==============================] - 57s 143ms/step - loss: 0.0776 - accuracy: 0.9649 - val_loss: 0.1486 - val_accuracy: 0.9500\n",
            "Epoch 38/100\n",
            "399/399 [==============================] - 57s 142ms/step - loss: 0.0576 - accuracy: 0.9799 - val_loss: 0.1776 - val_accuracy: 0.9600\n",
            "Epoch 39/100\n",
            "399/399 [==============================] - 57s 143ms/step - loss: 0.0774 - accuracy: 0.9749 - val_loss: 0.1443 - val_accuracy: 0.9400\n",
            "Epoch 40/100\n",
            "399/399 [==============================] - 57s 142ms/step - loss: 0.0971 - accuracy: 0.9624 - val_loss: 0.1628 - val_accuracy: 0.9200\n",
            "Epoch 41/100\n",
            "399/399 [==============================] - 57s 143ms/step - loss: 0.0605 - accuracy: 0.9724 - val_loss: 0.1918 - val_accuracy: 0.9200\n",
            "Epoch 42/100\n",
            "399/399 [==============================] - 57s 142ms/step - loss: 0.0574 - accuracy: 0.9799 - val_loss: 0.1777 - val_accuracy: 0.9200\n",
            "Epoch 43/100\n",
            "399/399 [==============================] - 57s 142ms/step - loss: 0.0552 - accuracy: 0.9825 - val_loss: 0.1853 - val_accuracy: 0.9300\n",
            "Epoch 44/100\n",
            "399/399 [==============================] - 57s 142ms/step - loss: 0.0452 - accuracy: 0.9850 - val_loss: 0.1907 - val_accuracy: 0.9500\n",
            "Epoch 45/100\n",
            "399/399 [==============================] - 57s 143ms/step - loss: 0.0782 - accuracy: 0.9825 - val_loss: 0.1922 - val_accuracy: 0.9400\n",
            "Epoch 46/100\n",
            "399/399 [==============================] - 57s 142ms/step - loss: 0.0357 - accuracy: 0.9850 - val_loss: 0.1970 - val_accuracy: 0.9400\n",
            "Epoch 47/100\n",
            "399/399 [==============================] - 57s 142ms/step - loss: 0.0460 - accuracy: 0.9799 - val_loss: 0.1897 - val_accuracy: 0.9500\n",
            "Epoch 48/100\n",
            "399/399 [==============================] - 57s 143ms/step - loss: 0.0326 - accuracy: 0.9850 - val_loss: 0.2099 - val_accuracy: 0.9400\n",
            "Epoch 49/100\n",
            "399/399 [==============================] - 57s 142ms/step - loss: 0.0276 - accuracy: 0.9850 - val_loss: 0.2078 - val_accuracy: 0.9600\n",
            "Epoch 50/100\n",
            "399/399 [==============================] - 57s 142ms/step - loss: 0.0709 - accuracy: 0.9799 - val_loss: 0.2039 - val_accuracy: 0.9500\n",
            "Epoch 51/100\n",
            "399/399 [==============================] - 57s 143ms/step - loss: 0.0395 - accuracy: 0.9825 - val_loss: 0.2137 - val_accuracy: 0.9500\n",
            "Epoch 52/100\n",
            "399/399 [==============================] - 57s 143ms/step - loss: 0.0480 - accuracy: 0.9850 - val_loss: 0.2089 - val_accuracy: 0.9400\n",
            "Epoch 53/100\n",
            "399/399 [==============================] - 57s 142ms/step - loss: 0.0590 - accuracy: 0.9850 - val_loss: 0.1996 - val_accuracy: 0.9500\n",
            "Epoch 54/100\n",
            "399/399 [==============================] - 57s 143ms/step - loss: 0.0360 - accuracy: 0.9850 - val_loss: 0.2240 - val_accuracy: 0.9500\n",
            "Epoch 55/100\n",
            "399/399 [==============================] - 57s 142ms/step - loss: 0.0743 - accuracy: 0.9674 - val_loss: 0.1814 - val_accuracy: 0.9500\n",
            "Epoch 56/100\n",
            "399/399 [==============================] - 57s 144ms/step - loss: 0.0606 - accuracy: 0.9724 - val_loss: 0.1872 - val_accuracy: 0.9500\n",
            "Epoch 57/100\n",
            "399/399 [==============================] - 57s 143ms/step - loss: 0.0301 - accuracy: 0.9900 - val_loss: 0.1754 - val_accuracy: 0.9600\n",
            "Epoch 58/100\n",
            "399/399 [==============================] - 57s 142ms/step - loss: 0.0424 - accuracy: 0.9850 - val_loss: 0.1734 - val_accuracy: 0.9500\n",
            "Epoch 59/100\n",
            "399/399 [==============================] - 57s 142ms/step - loss: 0.0558 - accuracy: 0.9774 - val_loss: 0.1839 - val_accuracy: 0.9600\n",
            "Epoch 60/100\n",
            "399/399 [==============================] - 57s 143ms/step - loss: 0.0277 - accuracy: 0.9875 - val_loss: 0.1797 - val_accuracy: 0.9600\n",
            "Epoch 61/100\n",
            "399/399 [==============================] - 57s 142ms/step - loss: 0.0325 - accuracy: 0.9850 - val_loss: 0.1946 - val_accuracy: 0.9400\n",
            "Epoch 00061: early stopping\n"
          ],
          "name": "stdout"
        },
        {
          "output_type": "execute_result",
          "data": {
            "text/plain": [
              "<keras.callbacks.callbacks.History at 0x7fd2da2d3ba8>"
            ]
          },
          "metadata": {
            "tags": []
          },
          "execution_count": 16
        }
      ]
    },
    {
      "cell_type": "code",
      "metadata": {
        "id": "ho2S1xrKh9_o",
        "colab_type": "code",
        "colab": {}
      },
      "source": [
        "from tensorflow.keras.models import load_model\n",
        "model.save('SunglassesModel.h5')"
      ],
      "execution_count": 18,
      "outputs": []
    },
    {
      "cell_type": "code",
      "metadata": {
        "id": "H9_n7T3sj3p4",
        "colab_type": "code",
        "colab": {}
      },
      "source": [
        "import pandas as pd\n",
        "losses = pd.DataFrame(model.history.history)"
      ],
      "execution_count": 19,
      "outputs": []
    },
    {
      "cell_type": "code",
      "metadata": {
        "id": "BbQV9EaZ_7Ka",
        "colab_type": "code",
        "colab": {
          "base_uri": "https://localhost:8080/",
          "height": 282
        },
        "outputId": "8863ed02-a46e-4d02-a7a2-564b434ee33a"
      },
      "source": [
        "losses[['loss', 'val_loss']].plot()"
      ],
      "execution_count": 20,
      "outputs": [
        {
          "output_type": "execute_result",
          "data": {
            "text/plain": [
              "<matplotlib.axes._subplots.AxesSubplot at 0x7fd2d9324550>"
            ]
          },
          "metadata": {
            "tags": []
          },
          "execution_count": 20
        },
        {
          "output_type": "display_data",
          "data": {
            "image/png": "[encoded data removed]",
            "text/plain": [
              "<Figure size 432x288 with 1 Axes>"
            ]
          },
          "metadata": {
            "tags": [],
            "needs_background": "light"
          }
        }
      ]
    },
    {
      "cell_type": "code",
      "metadata": {
        "id": "Bj1AnvKtCBw_",
        "colab_type": "code",
        "colab": {}
      },
      "source": [
        "from sklearn.metrics import confusion_matrix, classification_report"
      ],
      "execution_count": 21,
      "outputs": []
    },
    {
      "cell_type": "code",
      "metadata": {
        "id": "oJcCkmySCLt1",
        "colab_type": "code",
        "colab": {}
      },
      "source": [
        "predictions = model.predict_classes(X_test)"
      ],
      "execution_count": 22,
      "outputs": []
    },
    {
      "cell_type": "code",
      "metadata": {
        "id": "Hr3rdTHdCWQ2",
        "colab_type": "code",
        "colab": {
          "base_uri": "https://localhost:8080/",
          "height": 168
        },
        "outputId": "f9885b12-c417-4ff6-8e7b-974cab86db17"
      },
      "source": [
        "print(classification_report(y_test, predictions))"
      ],
      "execution_count": 23,
      "outputs": [
        {
          "output_type": "stream",
          "text": [
            "              precision    recall  f1-score   support\n",
            "\n",
            "           0       0.98      0.92      0.95        64\n",
            "           1       0.92      0.98      0.95        61\n",
            "\n",
            "    accuracy                           0.95       125\n",
            "   macro avg       0.95      0.95      0.95       125\n",
            "weighted avg       0.95      0.95      0.95       125\n",
            "\n"
          ],
          "name": "stdout"
        }
      ]
    },
    {
      "cell_type": "code",
      "metadata": {
        "id": "wobGDvl-Cdli",
        "colab_type": "code",
        "colab": {
          "base_uri": "https://localhost:8080/",
          "height": 50
        },
        "outputId": "57739885-172d-4425-dafa-a78c8f4e3d09"
      },
      "source": [
        "print(confusion_matrix(y_test, predictions))"
      ],
      "execution_count": 24,
      "outputs": [
        {
          "output_type": "stream",
          "text": [
            "[[59  5]\n",
            " [ 1 60]]\n"
          ],
          "name": "stdout"
        }
      ]
    },
    {
      "cell_type": "code",
      "metadata": {
        "id": "4knDNjnQClfe",
        "colab_type": "code",
        "colab": {}
      },
      "source": [
        ""
      ],
      "execution_count": null,
      "outputs": []
    }
  ]
}